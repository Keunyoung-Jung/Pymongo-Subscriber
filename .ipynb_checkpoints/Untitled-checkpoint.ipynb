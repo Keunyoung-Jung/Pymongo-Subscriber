{
 "cells": [
  {
   "cell_type": "code",
   "execution_count": null,
   "metadata": {},
   "outputs": [],
   "source": [
    "import os\n",
    "import threading\n",
    "import pandas as pd\n",
    "import pymongo\n",
    "from bson.objectid import ObjectId\n",
    "from tqdm import tqdm\n",
    "\n",
    "mongo_client = pymongo.MongoClient(\n",
    "    \"mongodb+srv://{}:{}@{}.wboft.mongodb.net/{}?retryWrites=true&w=majority\"\\\n",
    "        .format(self.mongo_id,self.mongo_password,self.cluster_name,self.db_name))\n",
    "        "
   ]
  }
 ],
 "metadata": {
  "kernelspec": {
   "display_name": "Python 3",
   "language": "python",
   "name": "python3"
  },
  "language_info": {
   "codemirror_mode": {
    "name": "ipython",
    "version": 3
   },
   "file_extension": ".py",
   "mimetype": "text/x-python",
   "name": "python",
   "nbconvert_exporter": "python",
   "pygments_lexer": "ipython3",
   "version": "3.6.9"
  }
 },
 "nbformat": 4,
 "nbformat_minor": 4
}
